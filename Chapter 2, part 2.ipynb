{
 "cells": [
  {
   "cell_type": "markdown",
   "metadata": {},
   "source": [
    "## MAD and Winsorized Variance\n",
    "\n",
    "**MAD** - Median Absolute Deviation.\n",
    "\n",
    "If we have  values:\n",
    "\n",
    "```\n",
    "12, 45, 23, 79, 19, 92, 30, 58, 132\n",
    "```\n",
    "\n",
    "This gives median 45. Subtract median from each gives following absolute values:\n",
    "\n",
    "```\n",
    "33, 0, 22, 34, 26, 47, 15, 13, 87\n",
    "```\n",
    "\n",
    "If we order these, and takes the median, then we obtain 26.\n",
    "\n",
    "MAD is generally divided by 0.6745 yielding final used value.\n",
    "\n",
    "**Winsorized value** - For certain types of analyses, this is neeed. Winsorizing by 20% is related to 20% trimmming. Instead of trimming values, they are *set equal to the smallest value not trimmed*. This is another way to reduce variance in data.\n",
    "\n",
    "Question here is - How does it influence variance compared to trimming? Should give lower, right?\n",
    "\n",
    "Calculating winsorized variance:\n",
    "\n",
    "```\n",
    "winvar(x, tr=0.2)\n",
    "```\n",
    "\n",
    "Winsorized standard deviation:\n",
    "\n",
    "```\n",
    "winsd(x, tr=0.2)\n",
    "```\n",
    "\n",
    "Compute interquartile range based on ideal fourths:\n",
    "\n",
    "```\n",
    "idealfIQR(x)\n",
    "```\n",
    "\n",
    "MADN:\n",
    "\n",
    "```\n",
    "mad(x)\n",
    "```"
   ]
  },
  {
   "cell_type": "markdown",
   "metadata": {},
   "source": [
    "## Detecting outliers\n",
    "\n",
    "Few outliers can have major impact.\n",
    "\n",
    "Mundane reason for outlier detection: Can help identify erroneously recorded results. \"Such errors seem to be rampant in applied work, and the subsequent cost of such errors can be enormous\". So make sure to check for outliers, and make sure that they are valid.\n",
    "\n",
    "Outlier technique said to suffer from *masking* if very presence of outliers causes them to be missed.\n",
    "\n",
    "Classify as outliers if either two or three standard deviations outside.\n",
    "\n",
    "For classic - If we have eight values where one is very extreme, it can drag up the variance in a way that hides the fact that it is an outlier!"
   ]
  },
  {
   "cell_type": "markdown",
   "metadata": {},
   "source": [
    "\n",
    "## Boxplot rule\n",
    "\n",
    "We can avoid masking by replacing mean and standard deviation with measures of location and dispersion that are relatively insensitive to outliers.\n",
    "\n",
    "X declared outlier if:\n",
    "\n",
    "```\n",
    "X < q_1 - 1.5*(q_2 - q_1)\n",
    "X > q_2 + 1.5*(q_2 - q_1)\n",
    "```\n",
    "\n",
    "So - we are declaring outliers on a more robust criteria.\n"
   ]
  },
  {
   "cell_type": "markdown",
   "metadata": {},
   "source": [
    "## MAD-Median rule\n",
    "\n",
    "Boxplot rule often suffices, as more than 25% of values must be outliers before masking becomes an issue. But this can break down when having large amount of outliers.\n",
    "\n",
    "Here, we can use MAD-median rule.\n",
    "\n",
    "```\n",
    "abs(X - M) / MADN > 2.24\n",
    "```\n",
    "\n",
    "Explanation: Absolute difference of values and median, over the stabilized median standard deviation measure."
   ]
  },
  {
   "cell_type": "markdown",
   "metadata": {},
   "source": [
    "### R functions outms, outbox and out\n",
    "\n",
    "Outliers using mean and standard deviation (not recommended):\n",
    "\n",
    "```\n",
    "outms(x, crit=2)\n",
    "```\n",
    "\n",
    "Check using box method:\n",
    "\n",
    "```\n",
    "outbox(x)\n",
    "```\n",
    "\n",
    "Check using MAD-median:\n",
    "\n",
    "```\n",
    "outpro(x)\n",
    "```"
   ]
  },
  {
   "cell_type": "markdown",
   "metadata": {},
   "source": [
    "# Skipped measures of location\n",
    "\n",
    "Based on strategy of removing outliers and computing mean of remaining data. This was illustrated here using boxplot rule.\n",
    "\n",
    "Removing outliers based on MAD-median rule and averaging remaining values is called modified one-step M-estimator (MOM). These have excellent statistical properties, apparently."
   ]
  },
  {
   "cell_type": "markdown",
   "metadata": {},
   "source": [
    "# Summary\n",
    "\n",
    "* Several measures here. Sensitivity to outlier is one factor to consider when picking method.\n",
    "* Sample mean highly sensitive to outliers.\n",
    "* Median highly insensitive to outliers. Have some negative characteristics yet to be described.\n",
    "* Trimmed mean lies between the two extremes.\n",
    "* Sample variance highly sensitive to outliers, which in turn can mask actual outliers when checking for them.\n",
    "* Interquartile range measures variability  without being sensitive to more extreme values. Suitable for outlier detection.\n",
    "* 20% Winsorized variance also measures variation without being sensititve to extreme values - But too soon to explain practical importance..."
   ]
  },
  {
   "cell_type": "code",
   "execution_count": null,
   "metadata": {
    "collapsed": true
   },
   "outputs": [],
   "source": []
  },
  {
   "cell_type": "code",
   "execution_count": null,
   "metadata": {
    "collapsed": true
   },
   "outputs": [],
   "source": []
  }
 ],
 "metadata": {
  "kernelspec": {
   "display_name": "Python 3",
   "language": "python",
   "name": "python3"
  },
  "language_info": {
   "codemirror_mode": {
    "name": "ipython",
    "version": 3
   },
   "file_extension": ".py",
   "mimetype": "text/x-python",
   "name": "python",
   "nbconvert_exporter": "python",
   "pygments_lexer": "ipython3",
   "version": "3.5.2"
  }
 },
 "nbformat": 4,
 "nbformat_minor": 2
}
