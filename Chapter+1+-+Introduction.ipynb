{
 "cells": [
  {
   "cell_type": "markdown",
   "metadata": {},
   "source": [
    "# Chapter overview\n",
    "\n",
    "Structure:\n",
    "\n",
    "* Samples versus populations\n",
    "* Comments on software\n",
    "* R Basics\n",
    "  * Entering data\n",
    "  * Arithmetic operations\n",
    "  * Storage types and modes\n",
    "  * Identifying and analyzing special cases\n",
    "* R packages\n",
    "* Access to data used in this book\n",
    "* Accessing more detailed answers to exercises\n",
    "* Exercises\n",
    "\n",
    "Comments:\n",
    "\n",
    "* Statistical methods and techniques impacts variety of fields\n",
    "* Description and summary of events\n",
    "* Example: Rats placed in ozone - Weight change?\n",
    "  * What averages would we have for larger sample sizes?\n",
    "\n",
    "In this book we will:\n",
    "\n",
    "* Obtain conceptual foundation for understanding when commonly used techniques perform well, and when they don't\n",
    "* Does not dig deep into mathematical underpinnings\n",
    "* Focuses on concepts and principles"
   ]
  },
  {
   "cell_type": "markdown",
   "metadata": {},
   "source": [
    "# Samples versus populations\n",
    "\n",
    "How well does *sample* represent *population*?\n",
    "\n",
    "* *Population mean* - Average of all rats.\n",
    "  * Problem is that it is hard to measure all\n",
    "* How well does sample extrapolate to full data\n",
    "\n",
    "Example: Small set of depressed individuals. Does their average generalize?\n",
    "\n",
    "Example: Norman Conquest, year 1100. Coins produced per day. We want to generalize to all coins.\n",
    "\n",
    "## Three fundamental components of statistics\n",
    "\n",
    "* **Design** - Procedure for planning experiments so that data yield valid and objective conclusions. **Well-chosen experimental design *maximize* information obtained for given amount of experimental effort.**\n",
    "* **Description** - Numerical and graphical methods for summarizing data.\n",
    "* **Inference** - Making predictions or generalizations about population based on sample observations.\n",
    "\n",
    "Health example: Factors affecting health.\n",
    "\n",
    "* Fat amount higher in North America than rural China.\n",
    "* Death rate much higher in North America.\n",
    "* Descriptive study - But not able to infer.\n",
    "* Would also need to consider pertubing factors (weight, age..)\n",
    "\n",
    "Inferential methods later on are designed to determine how well goal of seeing degree of inference works."
   ]
  },
  {
   "cell_type": "markdown",
   "metadata": {},
   "source": [
    "# Comments on Software\n",
    "\n",
    "* R - Best and most up to date. It has it all.\n",
    "* SAS - Good package providing power and flexibility. Not always cutting edge.\n",
    "* Minitab - Fairly simple to use, and reasonably flexible. Standard methods available (<1960). Can require special code.\n",
    "* SPSS - Lack of flexibility. Modern methods hard to apply.\n",
    "* EXCEL - Easy to use. Limited. Not adequately maintained."
   ]
  },
  {
   "cell_type": "markdown",
   "metadata": {},
   "source": [
    "# R Basics"
   ]
  },
  {
   "cell_type": "markdown",
   "metadata": {},
   "source": [
    "## Entering data"
   ]
  },
  {
   "cell_type": "code",
   "execution_count": 32,
   "metadata": {
    "collapsed": false
   },
   "outputs": [
    {
     "data": {
      "text/html": [
       "5"
      ],
      "text/latex": [
       "5"
      ],
      "text/markdown": [
       "5"
      ],
      "text/plain": [
       "[1] 5"
      ]
     },
     "metadata": {},
     "output_type": "display_data"
    }
   ],
   "source": [
    "blob = 5\n",
    "blob"
   ]
  },
  {
   "cell_type": "code",
   "execution_count": 33,
   "metadata": {
    "collapsed": false
   },
   "outputs": [
    {
     "data": {
      "text/html": [
       "<ol class=list-inline>\n",
       "\t<li>2</li>\n",
       "\t<li>4</li>\n",
       "\t<li>6</li>\n",
       "\t<li>8</li>\n",
       "\t<li>12</li>\n",
       "</ol>\n"
      ],
      "text/latex": [
       "\\begin{enumerate*}\n",
       "\\item 2\n",
       "\\item 4\n",
       "\\item 6\n",
       "\\item 8\n",
       "\\item 12\n",
       "\\end{enumerate*}\n"
      ],
      "text/markdown": [
       "1. 2\n",
       "2. 4\n",
       "3. 6\n",
       "4. 8\n",
       "5. 12\n",
       "\n",
       "\n"
      ],
      "text/plain": [
       "[1]  2  4  6  8 12"
      ]
     },
     "metadata": {},
     "output_type": "display_data"
    }
   ],
   "source": [
    "blob = c(2,4,6,8,12)\n",
    "blob"
   ]
  },
  {
   "cell_type": "code",
   "execution_count": 34,
   "metadata": {
    "collapsed": false
   },
   "outputs": [
    {
     "data": {
      "text/html": [
       "5"
      ],
      "text/latex": [
       "5"
      ],
      "text/markdown": [
       "5"
      ],
      "text/plain": [
       "[1] 5"
      ]
     },
     "metadata": {},
     "output_type": "display_data"
    }
   ],
   "source": [
    "length(blob)"
   ]
  },
  {
   "cell_type": "markdown",
   "metadata": {},
   "source": [
    "**Scan** command used to read simple  string of values."
   ]
  },
  {
   "cell_type": "code",
   "execution_count": 35,
   "metadata": {
    "collapsed": false
   },
   "outputs": [],
   "source": [
    "# ice = scan(file.choose())  # Nice thing! Not working on AWS though."
   ]
  },
  {
   "cell_type": "code",
   "execution_count": 36,
   "metadata": {
    "collapsed": false
   },
   "outputs": [
    {
     "data": {
      "text/html": [
       "<ol class=list-inline>\n",
       "\t<li>2</li>\n",
       "\t<li>4</li>\n",
       "\t<li>6</li>\n",
       "\t<li>8</li>\n",
       "\t<li>12</li>\n",
       "</ol>\n"
      ],
      "text/latex": [
       "\\begin{enumerate*}\n",
       "\\item 2\n",
       "\\item 4\n",
       "\\item 6\n",
       "\\item 8\n",
       "\\item 12\n",
       "\\end{enumerate*}\n"
      ],
      "text/markdown": [
       "1. 2\n",
       "2. 4\n",
       "3. 6\n",
       "4. 8\n",
       "5. 12\n",
       "\n",
       "\n"
      ],
      "text/plain": [
       "[1]  2  4  6  8 12"
      ]
     },
     "metadata": {},
     "output_type": "display_data"
    }
   ],
   "source": [
    "blob"
   ]
  },
  {
   "cell_type": "markdown",
   "metadata": {},
   "source": [
    "We can remove objects."
   ]
  },
  {
   "cell_type": "code",
   "execution_count": 37,
   "metadata": {
    "collapsed": false
   },
   "outputs": [],
   "source": [
    "rm(blob)\n",
    "# blob"
   ]
  },
  {
   "cell_type": "markdown",
   "metadata": {},
   "source": [
    "Reading tables (now we are talking!)"
   ]
  },
  {
   "cell_type": "code",
   "execution_count": 38,
   "metadata": {
    "collapsed": false
   },
   "outputs": [
    {
     "data": {
      "text/html": [
       "<table>\n",
       "<thead><tr><th scope=col>V1</th><th scope=col>V2</th><th scope=col>V3</th></tr></thead>\n",
       "<tbody>\n",
       "\t<tr><td>7.8</td><td>360</td><td>130</td></tr>\n",
       "\t<tr><td>7.7</td><td>400</td><td>110</td></tr>\n",
       "\t<tr><td>7.5</td><td>M  </td><td> 27</td></tr>\n",
       "\t<tr><td>M  </td><td>70 </td><td> 24</td></tr>\n",
       "\t<tr><td>7.0</td><td>40 </td><td>  7</td></tr>\n",
       "\t<tr><td>6.9</td><td>50 </td><td> 15</td></tr>\n",
       "</tbody>\n",
       "</table>\n"
      ],
      "text/latex": [
       "\\begin{tabular}{r|lll}\n",
       " V1 & V2 & V3\\\\\n",
       "\\hline\n",
       "\t 7.8 & 360 & 130\\\\\n",
       "\t 7.7 & 400 & 110\\\\\n",
       "\t 7.5 & M   &  27\\\\\n",
       "\t M   & 70  &  24\\\\\n",
       "\t 7.0 & 40  &   7\\\\\n",
       "\t 6.9 & 50  &  15\\\\\n",
       "\\end{tabular}\n"
      ],
      "text/markdown": [
       "\n",
       "V1 | V2 | V3 | \n",
       "|---|---|---|---|---|---|\n",
       "| 7.8 | 360 | 130 | \n",
       "| 7.7 | 400 | 110 | \n",
       "| 7.5 | M   |  27 | \n",
       "| M   | 70  |  24 | \n",
       "| 7.0 | 40  |   7 | \n",
       "| 6.9 | 50  |  15 | \n",
       "\n",
       "\n"
      ],
      "text/plain": [
       "  V1  V2  V3 \n",
       "1 7.8 360 130\n",
       "2 7.7 400 110\n",
       "3 7.5 M    27\n",
       "4 M   70   24\n",
       "5 7.0 40    7\n",
       "6 6.9 50   15"
      ]
     },
     "metadata": {},
     "output_type": "display_data"
    }
   ],
   "source": [
    "quake <- read.table(\"quake.dat\", skip=1, sep=\" \")\n",
    "head(quake)"
   ]
  },
  {
   "cell_type": "markdown",
   "metadata": {},
   "source": [
    "Get first column using name or index."
   ]
  },
  {
   "cell_type": "code",
   "execution_count": 39,
   "metadata": {
    "collapsed": false
   },
   "outputs": [
    {
     "data": {
      "text/html": [
       "<ol class=list-inline>\n",
       "\t<li>7.8</li>\n",
       "\t<li>7.7</li>\n",
       "\t<li>7.5</li>\n",
       "\t<li>M</li>\n",
       "\t<li>7.0</li>\n",
       "\t<li>6.9</li>\n",
       "\t<li>6.7</li>\n",
       "\t<li>6.7</li>\n",
       "\t<li>6.6</li>\n",
       "\t<li>6.5</li>\n",
       "\t<li>6.4</li>\n",
       "\t<li>6.4</li>\n",
       "\t<li>6.1</li>\n",
       "\t<li>5.9</li>\n",
       "\t<li>5.9</li>\n",
       "\t<li>5.8</li>\n",
       "</ol>\n"
      ],
      "text/latex": [
       "\\begin{enumerate*}\n",
       "\\item 7.8\n",
       "\\item 7.7\n",
       "\\item 7.5\n",
       "\\item M\n",
       "\\item 7.0\n",
       "\\item 6.9\n",
       "\\item 6.7\n",
       "\\item 6.7\n",
       "\\item 6.6\n",
       "\\item 6.5\n",
       "\\item 6.4\n",
       "\\item 6.4\n",
       "\\item 6.1\n",
       "\\item 5.9\n",
       "\\item 5.9\n",
       "\\item 5.8\n",
       "\\end{enumerate*}\n"
      ],
      "text/markdown": [
       "1. 7.8\n",
       "2. 7.7\n",
       "3. 7.5\n",
       "4. M\n",
       "5. 7.0\n",
       "6. 6.9\n",
       "7. 6.7\n",
       "8. 6.7\n",
       "9. 6.6\n",
       "10. 6.5\n",
       "11. 6.4\n",
       "12. 6.4\n",
       "13. 6.1\n",
       "14. 5.9\n",
       "15. 5.9\n",
       "16. 5.8\n",
       "\n",
       "\n"
      ],
      "text/plain": [
       " [1] 7.8 7.7 7.5 M   7.0 6.9 6.7 6.7 6.6 6.5 6.4 6.4 6.1 5.9 5.9 5.8\n",
       "Levels: 5.8 5.9 6.1 6.4 6.5 6.6 6.7 6.9 7.0 7.5 7.7 7.8 M"
      ]
     },
     "metadata": {},
     "output_type": "display_data"
    }
   ],
   "source": [
    "quake$V1"
   ]
  },
  {
   "cell_type": "code",
   "execution_count": 40,
   "metadata": {
    "collapsed": false
   },
   "outputs": [
    {
     "data": {
      "text/html": [
       "<ol class=list-inline>\n",
       "\t<li>7.8</li>\n",
       "\t<li>7.7</li>\n",
       "\t<li>7.5</li>\n",
       "\t<li>M</li>\n",
       "\t<li>7.0</li>\n",
       "\t<li>6.9</li>\n",
       "\t<li>6.7</li>\n",
       "\t<li>6.7</li>\n",
       "\t<li>6.6</li>\n",
       "\t<li>6.5</li>\n",
       "\t<li>6.4</li>\n",
       "\t<li>6.4</li>\n",
       "\t<li>6.1</li>\n",
       "\t<li>5.9</li>\n",
       "\t<li>5.9</li>\n",
       "\t<li>5.8</li>\n",
       "</ol>\n"
      ],
      "text/latex": [
       "\\begin{enumerate*}\n",
       "\\item 7.8\n",
       "\\item 7.7\n",
       "\\item 7.5\n",
       "\\item M\n",
       "\\item 7.0\n",
       "\\item 6.9\n",
       "\\item 6.7\n",
       "\\item 6.7\n",
       "\\item 6.6\n",
       "\\item 6.5\n",
       "\\item 6.4\n",
       "\\item 6.4\n",
       "\\item 6.1\n",
       "\\item 5.9\n",
       "\\item 5.9\n",
       "\\item 5.8\n",
       "\\end{enumerate*}\n"
      ],
      "text/markdown": [
       "1. 7.8\n",
       "2. 7.7\n",
       "3. 7.5\n",
       "4. M\n",
       "5. 7.0\n",
       "6. 6.9\n",
       "7. 6.7\n",
       "8. 6.7\n",
       "9. 6.6\n",
       "10. 6.5\n",
       "11. 6.4\n",
       "12. 6.4\n",
       "13. 6.1\n",
       "14. 5.9\n",
       "15. 5.9\n",
       "16. 5.8\n",
       "\n",
       "\n"
      ],
      "text/plain": [
       " [1] 7.8 7.7 7.5 M   7.0 6.9 6.7 6.7 6.6 6.5 6.4 6.4 6.1 5.9 5.9 5.8\n",
       "Levels: 5.8 5.9 6.1 6.4 6.5 6.6 6.7 6.9 7.0 7.5 7.7 7.8 M"
      ]
     },
     "metadata": {},
     "output_type": "display_data"
    }
   ],
   "source": [
    "quake[,1]"
   ]
  },
  {
   "cell_type": "markdown",
   "metadata": {},
   "source": [
    "Get first row"
   ]
  },
  {
   "cell_type": "code",
   "execution_count": 41,
   "metadata": {
    "collapsed": false
   },
   "outputs": [
    {
     "data": {
      "text/html": [
       "<table>\n",
       "<thead><tr><th scope=col>V1</th><th scope=col>V2</th><th scope=col>V3</th></tr></thead>\n",
       "<tbody>\n",
       "\t<tr><td>7.8</td><td>360</td><td>130</td></tr>\n",
       "</tbody>\n",
       "</table>\n"
      ],
      "text/latex": [
       "\\begin{tabular}{r|lll}\n",
       " V1 & V2 & V3\\\\\n",
       "\\hline\n",
       "\t 7.8 & 360 & 130\\\\\n",
       "\\end{tabular}\n"
      ],
      "text/markdown": [
       "\n",
       "V1 | V2 | V3 | \n",
       "|---|\n",
       "| 7.8 | 360 | 130 | \n",
       "\n",
       "\n"
      ],
      "text/plain": [
       "  V1  V2  V3 \n",
       "1 7.8 360 130"
      ]
     },
     "metadata": {},
     "output_type": "display_data"
    }
   ],
   "source": [
    "quake[1,]"
   ]
  },
  {
   "cell_type": "code",
   "execution_count": 42,
   "metadata": {
    "collapsed": false
   },
   "outputs": [
    {
     "data": {
      "text/html": [
       "<table>\n",
       "<thead><tr><th scope=col>magnitude</th><th scope=col>length</th><th scope=col>duration</th></tr></thead>\n",
       "<tbody>\n",
       "\t<tr><td>7.8</td><td>360</td><td>130</td></tr>\n",
       "\t<tr><td>7.7</td><td>400</td><td>110</td></tr>\n",
       "\t<tr><td>7.5</td><td>M  </td><td> 27</td></tr>\n",
       "\t<tr><td>M  </td><td>70 </td><td> 24</td></tr>\n",
       "\t<tr><td>7.0</td><td>40 </td><td>  7</td></tr>\n",
       "\t<tr><td>6.9</td><td>50 </td><td> 15</td></tr>\n",
       "</tbody>\n",
       "</table>\n"
      ],
      "text/latex": [
       "\\begin{tabular}{r|lll}\n",
       " magnitude & length & duration\\\\\n",
       "\\hline\n",
       "\t 7.8 & 360 & 130\\\\\n",
       "\t 7.7 & 400 & 110\\\\\n",
       "\t 7.5 & M   &  27\\\\\n",
       "\t M   & 70  &  24\\\\\n",
       "\t 7.0 & 40  &   7\\\\\n",
       "\t 6.9 & 50  &  15\\\\\n",
       "\\end{tabular}\n"
      ],
      "text/markdown": [
       "\n",
       "magnitude | length | duration | \n",
       "|---|---|---|---|---|---|\n",
       "| 7.8 | 360 | 130 | \n",
       "| 7.7 | 400 | 110 | \n",
       "| 7.5 | M   |  27 | \n",
       "| M   | 70  |  24 | \n",
       "| 7.0 | 40  |   7 | \n",
       "| 6.9 | 50  |  15 | \n",
       "\n",
       "\n"
      ],
      "text/plain": [
       "  magnitude length duration\n",
       "1 7.8       360    130     \n",
       "2 7.7       400    110     \n",
       "3 7.5       M       27     \n",
       "4 M         70      24     \n",
       "5 7.0       40       7     \n",
       "6 6.9       50      15     "
      ]
     },
     "metadata": {},
     "output_type": "display_data"
    }
   ],
   "source": [
    "quake_annot <- read.table(\"quake.dat\", sep=\" \", header=TRUE)\n",
    "head(quake_annot)"
   ]
  },
  {
   "cell_type": "markdown",
   "metadata": {},
   "source": [
    "Print labels, for both rows and columns"
   ]
  },
  {
   "cell_type": "code",
   "execution_count": 43,
   "metadata": {
    "collapsed": false
   },
   "outputs": [
    {
     "data": {
      "text/html": [
       "<ol>\n",
       "\t<li><ol class=list-inline>\n",
       "\t<li>'1'</li>\n",
       "\t<li>'2'</li>\n",
       "\t<li>'3'</li>\n",
       "\t<li>'4'</li>\n",
       "\t<li>'5'</li>\n",
       "\t<li>'6'</li>\n",
       "\t<li>'7'</li>\n",
       "\t<li>'8'</li>\n",
       "\t<li>'9'</li>\n",
       "\t<li>'10'</li>\n",
       "\t<li>'11'</li>\n",
       "\t<li>'12'</li>\n",
       "\t<li>'13'</li>\n",
       "\t<li>'14'</li>\n",
       "\t<li>'15'</li>\n",
       "\t<li>'16'</li>\n",
       "</ol>\n",
       "</li>\n",
       "\t<li><ol class=list-inline>\n",
       "\t<li>'magnitude'</li>\n",
       "\t<li>'length'</li>\n",
       "\t<li>'duration'</li>\n",
       "</ol>\n",
       "</li>\n",
       "</ol>\n"
      ],
      "text/latex": [
       "\\begin{enumerate}\n",
       "\\item \\begin{enumerate*}\n",
       "\\item '1'\n",
       "\\item '2'\n",
       "\\item '3'\n",
       "\\item '4'\n",
       "\\item '5'\n",
       "\\item '6'\n",
       "\\item '7'\n",
       "\\item '8'\n",
       "\\item '9'\n",
       "\\item '10'\n",
       "\\item '11'\n",
       "\\item '12'\n",
       "\\item '13'\n",
       "\\item '14'\n",
       "\\item '15'\n",
       "\\item '16'\n",
       "\\end{enumerate*}\n",
       "\n",
       "\\item \\begin{enumerate*}\n",
       "\\item 'magnitude'\n",
       "\\item 'length'\n",
       "\\item 'duration'\n",
       "\\end{enumerate*}\n",
       "\n",
       "\\end{enumerate}\n"
      ],
      "text/markdown": [
       "1. 1. '1'\n",
       "2. '2'\n",
       "3. '3'\n",
       "4. '4'\n",
       "5. '5'\n",
       "6. '6'\n",
       "7. '7'\n",
       "8. '8'\n",
       "9. '9'\n",
       "10. '10'\n",
       "11. '11'\n",
       "12. '12'\n",
       "13. '13'\n",
       "14. '14'\n",
       "15. '15'\n",
       "16. '16'\n",
       "\n",
       "\n",
       "\n",
       "2. 1. 'magnitude'\n",
       "2. 'length'\n",
       "3. 'duration'\n",
       "\n",
       "\n",
       "\n",
       "\n",
       "\n"
      ],
      "text/plain": [
       "[[1]]\n",
       " [1] \"1\"  \"2\"  \"3\"  \"4\"  \"5\"  \"6\"  \"7\"  \"8\"  \"9\"  \"10\" \"11\" \"12\" \"13\" \"14\" \"15\"\n",
       "[16] \"16\"\n",
       "\n",
       "[[2]]\n",
       "[1] \"magnitude\" \"length\"    \"duration\" \n"
      ]
     },
     "metadata": {},
     "output_type": "display_data"
    },
    {
     "name": "stdout",
     "output_type": "stream",
     "text": [
      "'data.frame':\t16 obs. of  3 variables:\n",
      " $ magnitude: Factor w/ 13 levels \"5.8\",\"5.9\",\"6.1\",..: 12 11 10 13 9 8 7 7 6 5 ...\n",
      " $ length   : Factor w/ 15 levels \"14\",\"15\",\"16\",..: 8 10 15 14 9 12 3 1 5 6 ...\n",
      " $ duration : int  130 110 27 24 7 15 8 7 15 6 ...\n"
     ]
    }
   ],
   "source": [
    "labels(quake_annot)\n",
    "str(quake_annot)"
   ]
  },
  {
   "cell_type": "code",
   "execution_count": 46,
   "metadata": {
    "collapsed": false
   },
   "outputs": [
    {
     "data": {
      "text/html": [
       "<table>\n",
       "<thead><tr><th scope=col>magnitude</th><th scope=col>length</th><th scope=col>duration</th></tr></thead>\n",
       "<tbody>\n",
       "\t<tr><td>7.8</td><td>360</td><td>130</td></tr>\n",
       "\t<tr><td>7.7</td><td>400</td><td>110</td></tr>\n",
       "\t<tr><td>7.5</td><td> NA</td><td> 27</td></tr>\n",
       "\t<tr><td> NA</td><td> 70</td><td> 24</td></tr>\n",
       "\t<tr><td>7.0</td><td> 40</td><td>  7</td></tr>\n",
       "\t<tr><td>6.9</td><td> 50</td><td> 15</td></tr>\n",
       "</tbody>\n",
       "</table>\n"
      ],
      "text/latex": [
       "\\begin{tabular}{r|lll}\n",
       " magnitude & length & duration\\\\\n",
       "\\hline\n",
       "\t 7.8 & 360 & 130\\\\\n",
       "\t 7.7 & 400 & 110\\\\\n",
       "\t 7.5 &  NA &  27\\\\\n",
       "\t  NA &  70 &  24\\\\\n",
       "\t 7.0 &  40 &   7\\\\\n",
       "\t 6.9 &  50 &  15\\\\\n",
       "\\end{tabular}\n"
      ],
      "text/markdown": [
       "\n",
       "magnitude | length | duration | \n",
       "|---|---|---|---|---|---|\n",
       "| 7.8 | 360 | 130 | \n",
       "| 7.7 | 400 | 110 | \n",
       "| 7.5 |  NA |  27 | \n",
       "|  NA |  70 |  24 | \n",
       "| 7.0 |  40 |   7 | \n",
       "| 6.9 |  50 |  15 | \n",
       "\n",
       "\n"
      ],
      "text/plain": [
       "  magnitude length duration\n",
       "1 7.8       360    130     \n",
       "2 7.7       400    110     \n",
       "3 7.5        NA     27     \n",
       "4  NA        70     24     \n",
       "5 7.0        40      7     \n",
       "6 6.9        50     15     "
      ]
     },
     "metadata": {},
     "output_type": "display_data"
    }
   ],
   "source": [
    "quake_na <- read.table(\"quake.dat\", na.strings=\"M\", header=TRUE)\n",
    "head(quake_na)"
   ]
  },
  {
   "cell_type": "markdown",
   "metadata": {},
   "source": [
    "## Arithmetics"
   ]
  },
  {
   "cell_type": "code",
   "execution_count": 47,
   "metadata": {
    "collapsed": false
   },
   "outputs": [
    {
     "data": {
      "text/html": [
       "26"
      ],
      "text/latex": [
       "26"
      ],
      "text/markdown": [
       "26"
      ],
      "text/plain": [
       "[1] 26"
      ]
     },
     "metadata": {},
     "output_type": "display_data"
    }
   ],
   "source": [
    "1 + 5^2"
   ]
  },
  {
   "cell_type": "code",
   "execution_count": 51,
   "metadata": {
    "collapsed": false
   },
   "outputs": [
    {
     "data": {
      "text/html": [
       "<ol class=list-inline>\n",
       "\t<li>1</li>\n",
       "\t<li>7</li>\n",
       "</ol>\n"
      ],
      "text/latex": [
       "\\begin{enumerate*}\n",
       "\\item 1\n",
       "\\item 7\n",
       "\\end{enumerate*}\n"
      ],
      "text/markdown": [
       "1. 1\n",
       "2. 7\n",
       "\n",
       "\n"
      ],
      "text/plain": [
       "[1] 1 7"
      ]
     },
     "metadata": {},
     "output_type": "display_data"
    }
   ],
   "source": [
    "range(c(1, 5, 3, 7, 2))"
   ]
  },
  {
   "cell_type": "markdown",
   "metadata": {},
   "source": [
    "## Storage types and modes"
   ]
  },
  {
   "cell_type": "markdown",
   "metadata": {},
   "source": [
    "Dataframe is not vector. Column neither. But a row is."
   ]
  },
  {
   "cell_type": "code",
   "execution_count": 60,
   "metadata": {
    "collapsed": false
   },
   "outputs": [
    {
     "data": {
      "text/html": [
       "FALSE"
      ],
      "text/latex": [
       "FALSE"
      ],
      "text/markdown": [
       "FALSE"
      ],
      "text/plain": [
       "[1] FALSE"
      ]
     },
     "metadata": {},
     "output_type": "display_data"
    },
    {
     "data": {
      "text/html": [
       "FALSE"
      ],
      "text/latex": [
       "FALSE"
      ],
      "text/markdown": [
       "FALSE"
      ],
      "text/plain": [
       "[1] FALSE"
      ]
     },
     "metadata": {},
     "output_type": "display_data"
    },
    {
     "data": {
      "text/html": [
       "TRUE"
      ],
      "text/latex": [
       "TRUE"
      ],
      "text/markdown": [
       "TRUE"
      ],
      "text/plain": [
       "[1] TRUE"
      ]
     },
     "metadata": {},
     "output_type": "display_data"
    }
   ],
   "source": [
    "is.vector(quake_na)\n",
    "is.vector(quake_na[1,])\n",
    "is.vector(quake_na[,1])"
   ]
  },
  {
   "cell_type": "code",
   "execution_count": 61,
   "metadata": {
    "collapsed": false
   },
   "outputs": [
    {
     "data": {
      "text/html": [
       "<table>\n",
       "<tbody>\n",
       "\t<tr><td>1</td><td>4</td></tr>\n",
       "\t<tr><td>2</td><td>5</td></tr>\n",
       "\t<tr><td>3</td><td>6</td></tr>\n",
       "</tbody>\n",
       "</table>\n"
      ],
      "text/latex": [
       "\\begin{tabular}{ll}\n",
       "\t 1 & 4\\\\\n",
       "\t 2 & 5\\\\\n",
       "\t 3 & 6\\\\\n",
       "\\end{tabular}\n"
      ],
      "text/markdown": [
       "\n",
       "| 1 | 4 | \n",
       "| 2 | 5 | \n",
       "| 3 | 6 | \n",
       "\n",
       "\n"
      ],
      "text/plain": [
       "     [,1] [,2]\n",
       "[1,] 1    4   \n",
       "[2,] 2    5   \n",
       "[3,] 3    6   "
      ]
     },
     "metadata": {},
     "output_type": "display_data"
    }
   ],
   "source": [
    "m <- cbind(c(1,2,3), c(4,5,6))\n",
    "m"
   ]
  },
  {
   "cell_type": "code",
   "execution_count": 62,
   "metadata": {
    "collapsed": false
   },
   "outputs": [
    {
     "data": {
      "text/html": [
       "<ol class=list-inline>\n",
       "\t<li>2</li>\n",
       "\t<li>5</li>\n",
       "</ol>\n"
      ],
      "text/latex": [
       "\\begin{enumerate*}\n",
       "\\item 2\n",
       "\\item 5\n",
       "\\end{enumerate*}\n"
      ],
      "text/markdown": [
       "1. 2\n",
       "2. 5\n",
       "\n",
       "\n"
      ],
      "text/plain": [
       "[1] 2 5"
      ]
     },
     "metadata": {},
     "output_type": "display_data"
    }
   ],
   "source": [
    "apply(m, 2, mean)"
   ]
  },
  {
   "cell_type": "code",
   "execution_count": 63,
   "metadata": {
    "collapsed": false
   },
   "outputs": [
    {
     "data": {
      "text/html": [
       "<ol class=list-inline>\n",
       "\t<li>2.5</li>\n",
       "\t<li>3.5</li>\n",
       "\t<li>4.5</li>\n",
       "</ol>\n"
      ],
      "text/latex": [
       "\\begin{enumerate*}\n",
       "\\item 2.5\n",
       "\\item 3.5\n",
       "\\item 4.5\n",
       "\\end{enumerate*}\n"
      ],
      "text/markdown": [
       "1. 2.5\n",
       "2. 3.5\n",
       "3. 4.5\n",
       "\n",
       "\n"
      ],
      "text/plain": [
       "[1] 2.5 3.5 4.5"
      ]
     },
     "metadata": {},
     "output_type": "display_data"
    }
   ],
   "source": [
    "apply(m, 1, mean)"
   ]
  },
  {
   "cell_type": "code",
   "execution_count": 65,
   "metadata": {
    "collapsed": false
   },
   "outputs": [
    {
     "data": {
      "text/html": [
       "<table>\n",
       "<tbody>\n",
       "\t<tr><td>1</td><td>4</td></tr>\n",
       "\t<tr><td>2</td><td>5</td></tr>\n",
       "\t<tr><td>3</td><td>6</td></tr>\n",
       "</tbody>\n",
       "</table>\n"
      ],
      "text/latex": [
       "\\begin{tabular}{ll}\n",
       "\t 1 & 4\\\\\n",
       "\t 2 & 5\\\\\n",
       "\t 3 & 6\\\\\n",
       "\\end{tabular}\n"
      ],
      "text/markdown": [
       "\n",
       "| 1 | 4 | \n",
       "| 2 | 5 | \n",
       "| 3 | 6 | \n",
       "\n",
       "\n"
      ],
      "text/plain": [
       "     [,1] [,2]\n",
       "[1,] 1    4   \n",
       "[2,] 2    5   \n",
       "[3,] 3    6   "
      ]
     },
     "metadata": {},
     "output_type": "display_data"
    }
   ],
   "source": [
    "matrix(seq(1,6), ncol=2)"
   ]
  },
  {
   "cell_type": "markdown",
   "metadata": {},
   "source": [
    "Here, we force matrix to populate row-wise."
   ]
  },
  {
   "cell_type": "code",
   "execution_count": 66,
   "metadata": {
    "collapsed": false
   },
   "outputs": [
    {
     "data": {
      "text/html": [
       "<table>\n",
       "<tbody>\n",
       "\t<tr><td>1</td><td>2</td></tr>\n",
       "\t<tr><td>3</td><td>4</td></tr>\n",
       "\t<tr><td>5</td><td>6</td></tr>\n",
       "</tbody>\n",
       "</table>\n"
      ],
      "text/latex": [
       "\\begin{tabular}{ll}\n",
       "\t 1 & 2\\\\\n",
       "\t 3 & 4\\\\\n",
       "\t 5 & 6\\\\\n",
       "\\end{tabular}\n"
      ],
      "text/markdown": [
       "\n",
       "| 1 | 2 | \n",
       "| 3 | 4 | \n",
       "| 5 | 6 | \n",
       "\n",
       "\n"
      ],
      "text/plain": [
       "     [,1] [,2]\n",
       "[1,] 1    2   \n",
       "[2,] 3    4   \n",
       "[3,] 5    6   "
      ]
     },
     "metadata": {},
     "output_type": "display_data"
    }
   ],
   "source": [
    "matrix(seq(1,6), ncol=2, byrow=TRUE)"
   ]
  },
  {
   "cell_type": "markdown",
   "metadata": {},
   "source": [
    "## TO BE CONTINUED, PAGE 15..."
   ]
  },
  {
   "cell_type": "markdown",
   "metadata": {},
   "source": [
    "# R Packages"
   ]
  },
  {
   "cell_type": "markdown",
   "metadata": {},
   "source": [
    "# Access to data used in this book"
   ]
  },
  {
   "cell_type": "markdown",
   "metadata": {},
   "source": [
    "# Exercises"
   ]
  }
 ],
 "metadata": {
  "kernelspec": {
   "display_name": "R",
   "language": "R",
   "name": "ir"
  },
  "language_info": {
   "codemirror_mode": "r",
   "file_extension": ".r",
   "mimetype": "text/x-r-source",
   "name": "R",
   "pygments_lexer": "r",
   "version": "3.3.2"
  }
 },
 "nbformat": 4,
 "nbformat_minor": 2
}
