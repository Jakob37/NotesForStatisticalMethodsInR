{
 "cells": [
  {
   "cell_type": "markdown",
   "metadata": {
    "toc": "true"
   },
   "source": [
    "# Table of Contents\n",
    " <p>"
   ]
  },
  {
   "cell_type": "code",
   "execution_count": 27,
   "metadata": {
    "ExecuteTime": {
     "end_time": "2017-04-18T15:30:34.144801Z",
     "start_time": "2017-04-18T15:30:34.092Z"
    }
   },
   "outputs": [
    {
     "name": "stderr",
     "output_type": "stream",
     "text": [
      "\n",
      "Attaching package: ‘WRS’\n",
      "\n",
      "The following objects are masked from ‘package:stats’:\n",
      "\n",
      "    cov2cor, ecdf\n",
      "\n",
      "The following object is masked from ‘package:grDevices’:\n",
      "\n",
      "    bmp\n",
      "\n"
     ]
    }
   ],
   "source": [
    "library(WRS)"
   ]
  },
  {
   "cell_type": "markdown",
   "metadata": {},
   "source": [
    "Exercise 1. Performing various basic numerical exercises."
   ]
  },
  {
   "cell_type": "code",
   "execution_count": 14,
   "metadata": {
    "ExecuteTime": {
     "end_time": "2017-04-18T15:18:17.363310Z",
     "start_time": "2017-04-18T15:18:17.272Z"
    }
   },
   "outputs": [
    {
     "data": {
      "text/html": [
       "22"
      ],
      "text/latex": [
       "22"
      ],
      "text/markdown": [
       "22"
      ],
      "text/plain": [
       "[1] 22"
      ]
     },
     "metadata": {},
     "output_type": "display_data"
    },
    {
     "data": {
      "text/html": [
       "2"
      ],
      "text/latex": [
       "2"
      ],
      "text/markdown": [
       "2"
      ],
      "text/plain": [
       "[1] 2"
      ]
     },
     "metadata": {},
     "output_type": "display_data"
    },
    {
     "data": {
      "text/html": [
       "20"
      ],
      "text/latex": [
       "20"
      ],
      "text/markdown": [
       "20"
      ],
      "text/plain": [
       "[1] 20"
      ]
     },
     "metadata": {},
     "output_type": "display_data"
    },
    {
     "data": {
      "text/html": [
       "484"
      ],
      "text/latex": [
       "484"
      ],
      "text/markdown": [
       "484"
      ],
      "text/plain": [
       "[1] 484"
      ]
     },
     "metadata": {},
     "output_type": "display_data"
    },
    {
     "data": {
      "text/html": [
       "27"
      ],
      "text/latex": [
       "27"
      ],
      "text/markdown": [
       "27"
      ],
      "text/plain": [
       "[1] 27"
      ]
     },
     "metadata": {},
     "output_type": "display_data"
    },
    {
     "data": {
      "text/html": [
       "-41"
      ],
      "text/latex": [
       "-41"
      ],
      "text/markdown": [
       "-41"
      ],
      "text/plain": [
       "[1] -41"
      ]
     },
     "metadata": {},
     "output_type": "display_data"
    },
    {
     "data": {
      "text/html": [
       "2"
      ],
      "text/latex": [
       "2"
      ],
      "text/markdown": [
       "2"
      ],
      "text/plain": [
       "[1] 2"
      ]
     },
     "metadata": {},
     "output_type": "display_data"
    },
    {
     "data": {
      "text/html": [
       "220"
      ],
      "text/latex": [
       "220"
      ],
      "text/markdown": [
       "220"
      ],
      "text/plain": [
       "[1] 220"
      ]
     },
     "metadata": {},
     "output_type": "display_data"
    },
    {
     "data": {
      "text/html": [
       "12"
      ],
      "text/latex": [
       "12"
      ],
      "text/markdown": [
       "12"
      ],
      "text/plain": [
       "[1] 12"
      ]
     },
     "metadata": {},
     "output_type": "display_data"
    },
    {
     "data": {
      "text/html": [
       "54"
      ],
      "text/latex": [
       "54"
      ],
      "text/markdown": [
       "54"
      ],
      "text/plain": [
       "[1] 54"
      ]
     },
     "metadata": {},
     "output_type": "display_data"
    }
   ],
   "source": [
    "xs <- c(1, 3, 0, -2, 4, -1, 5, 2, 10)\n",
    "\n",
    "sum(xs)\n",
    "sum(xs[3:5])\n",
    "sum(xs[1:4]^3)\n",
    "sum(xs)^2\n",
    "sum(rep(3, length(xs)))\n",
    "sum(xs - 7)\n",
    "3 * sum(xs[1:5]) - sum(xs[6:9])\n",
    "sum(10*xs)\n",
    "sum(xs[2:6] * seq(2, 6))\n",
    "sum(rep(6, length(xs)))"
   ]
  },
  {
   "cell_type": "markdown",
   "metadata": {},
   "source": [
    "Exercise 4. Find mean and median in following sets."
   ]
  },
  {
   "cell_type": "code",
   "execution_count": 8,
   "metadata": {
    "ExecuteTime": {
     "end_time": "2017-04-18T15:13:44.914987Z",
     "start_time": "2017-04-18T15:13:44.874Z"
    }
   },
   "outputs": [
    {
     "data": {
      "text/html": [
       "-0.166666666666667"
      ],
      "text/latex": [
       "-0.166666666666667"
      ],
      "text/markdown": [
       "-0.166666666666667"
      ],
      "text/plain": [
       "[1] -0.1666667"
      ]
     },
     "metadata": {},
     "output_type": "display_data"
    },
    {
     "data": {
      "text/html": [
       "0"
      ],
      "text/latex": [
       "0"
      ],
      "text/markdown": [
       "0"
      ],
      "text/plain": [
       "[1] 0"
      ]
     },
     "metadata": {},
     "output_type": "display_data"
    },
    {
     "data": {
      "text/html": [
       "186.166666666667"
      ],
      "text/latex": [
       "186.166666666667"
      ],
      "text/markdown": [
       "186.166666666667"
      ],
      "text/plain": [
       "[1] 186.1667"
      ]
     },
     "metadata": {},
     "output_type": "display_data"
    },
    {
     "data": {
      "text/html": [
       "6.5"
      ],
      "text/latex": [
       "6.5"
      ],
      "text/markdown": [
       "6.5"
      ],
      "text/plain": [
       "[1] 6.5"
      ]
     },
     "metadata": {},
     "output_type": "display_data"
    }
   ],
   "source": [
    "a <- c(-1, 0, 3, 0, 2, -5)\n",
    "b <- c(2, 2, 3, 10, 100, 1000)\n",
    "\n",
    "mean(a)\n",
    "median(a)\n",
    "mean(b)\n",
    "median(b)"
   ]
  },
  {
   "cell_type": "markdown",
   "metadata": {},
   "source": [
    "Exercise 5. Final exams for 15 students. Calculate mean, 20% trimmed mean, and median."
   ]
  },
  {
   "cell_type": "code",
   "execution_count": 10,
   "metadata": {
    "ExecuteTime": {
     "end_time": "2017-04-18T15:15:31.892739Z",
     "start_time": "2017-04-18T15:15:31.864Z"
    }
   },
   "outputs": [
    {
     "data": {
      "text/html": [
       "83.9285714285714"
      ],
      "text/latex": [
       "83.9285714285714"
      ],
      "text/markdown": [
       "83.9285714285714"
      ],
      "text/plain": [
       "[1] 83.92857"
      ]
     },
     "metadata": {},
     "output_type": "display_data"
    },
    {
     "data": {
      "text/html": [
       "83.1"
      ],
      "text/latex": [
       "83.1"
      ],
      "text/markdown": [
       "83.1"
      ],
      "text/plain": [
       "[1] 83.1"
      ]
     },
     "metadata": {},
     "output_type": "display_data"
    },
    {
     "data": {
      "text/html": [
       "80.5"
      ],
      "text/latex": [
       "80.5"
      ],
      "text/markdown": [
       "80.5"
      ],
      "text/plain": [
       "[1] 80.5"
      ]
     },
     "metadata": {},
     "output_type": "display_data"
    }
   ],
   "source": [
    "scores <- c(73, 74, 92, 98, 100, 72, 74, 85, 76, 94, 89, 73, 76, 99)\n",
    "mean(scores)\n",
    "mean(scores, trim=0.2)\n",
    "median(scores)"
   ]
  },
  {
   "cell_type": "markdown",
   "metadata": {},
   "source": [
    "Exercises 11 & 12. Compute upper and lower quartiles using ideal forths."
   ]
  },
  {
   "cell_type": "code",
   "execution_count": 20,
   "metadata": {
    "ExecuteTime": {
     "end_time": "2017-04-18T15:24:40.436808Z",
     "start_time": "2017-04-18T15:24:40.401Z"
    }
   },
   "outputs": [
    {
     "name": "stdout",
     "output_type": "stream",
     "text": [
      "[1] 3\n"
     ]
    },
    {
     "data": {
      "text/html": [
       "0.416666666666667"
      ],
      "text/latex": [
       "0.416666666666667"
      ],
      "text/markdown": [
       "0.416666666666667"
      ],
      "text/plain": [
       "[1] 0.4166667"
      ]
     },
     "metadata": {},
     "output_type": "display_data"
    },
    {
     "name": "stdout",
     "output_type": "stream",
     "text": [
      "[1] 4\n"
     ]
    },
    {
     "data": {
      "text/html": [
       "0.166666666666667"
      ],
      "text/latex": [
       "0.166666666666667"
      ],
      "text/markdown": [
       "0.166666666666667"
      ],
      "text/plain": [
       "[1] 0.1666667"
      ]
     },
     "metadata": {},
     "output_type": "display_data"
    }
   ],
   "source": [
    "calc_ideal_fourth <- function(n) {\n",
    "    j <- floor(n/4 + 5/12)\n",
    "    print(j)\n",
    "    h <- n/4 + 5/12 - j\n",
    "    h\n",
    "}\n",
    "\n",
    "v1 <- c(0, 23, -1, 12, -10, -7, 1, -19, -6, 12, 1, -3)\n",
    "v2 <- c(-1, -10, 2, 2, -7, -2, 3, 3, -6, 12, -1, -12, -6, 8, 6)\n",
    "\n",
    "calc_ideal_fourth(12)\n",
    "calc_ideal_fourth(length(v2))\n",
    "\n",
    "# Conclusion: Funky way to better divide vectors into segments"
   ]
  },
  {
   "cell_type": "markdown",
   "metadata": {},
   "source": [
    "Exercise 15 & 16 - Plant heights and variance"
   ]
  },
  {
   "cell_type": "code",
   "execution_count": 25,
   "metadata": {
    "ExecuteTime": {
     "end_time": "2017-04-18T15:27:19.921930Z",
     "start_time": "2017-04-18T15:27:19.887Z"
    }
   },
   "outputs": [
    {
     "data": {
      "text/html": [
       "0"
      ],
      "text/latex": [
       "0"
      ],
      "text/markdown": [
       "0"
      ],
      "text/plain": [
       "[1] 0"
      ]
     },
     "metadata": {},
     "output_type": "display_data"
    },
    {
     "data": {
      "text/html": [
       "<ol class=list-inline>\n",
       "\t<li>3</li>\n",
       "\t<li>21</li>\n",
       "</ol>\n"
      ],
      "text/latex": [
       "\\begin{enumerate*}\n",
       "\\item 3\n",
       "\\item 21\n",
       "\\end{enumerate*}\n"
      ],
      "text/markdown": [
       "1. 3\n",
       "2. 21\n",
       "\n",
       "\n"
      ],
      "text/plain": [
       "[1]  3 21"
      ]
     },
     "metadata": {},
     "output_type": "display_data"
    },
    {
     "data": {
      "text/html": [
       "32"
      ],
      "text/latex": [
       "32"
      ],
      "text/markdown": [
       "32"
      ],
      "text/plain": [
       "[1] 32"
      ]
     },
     "metadata": {},
     "output_type": "display_data"
    },
    {
     "data": {
      "text/html": [
       "5.65685424949238"
      ],
      "text/latex": [
       "5.65685424949238"
      ],
      "text/markdown": [
       "5.65685424949238"
      ],
      "text/plain": [
       "[1] 5.656854"
      ]
     },
     "metadata": {},
     "output_type": "display_data"
    }
   ],
   "source": [
    "heights <- c(12, 6, 15, 3, 12, 6, 21, 15, 18, 12)\n",
    "means <- rep(mean(heights), length(heights))\n",
    "sum(heights - means)\n",
    "range(heights)\n",
    "var(heights)\n",
    "sqrt(var(heights))"
   ]
  },
  {
   "cell_type": "markdown",
   "metadata": {},
   "source": [
    "Exercise 20: Outlier detection"
   ]
  },
  {
   "cell_type": "code",
   "execution_count": 29,
   "metadata": {
    "ExecuteTime": {
     "end_time": "2017-04-18T15:30:46.453443Z",
     "start_time": "2017-04-18T15:30:46.413Z"
    }
   },
   "outputs": [
    {
     "data": {
      "text/html": [
       "<dl>\n",
       "\t<dt>$n</dt>\n",
       "\t\t<dd>11</dd>\n",
       "\t<dt>$n.out</dt>\n",
       "\t\t<dd>1</dd>\n",
       "\t<dt>$out.value</dt>\n",
       "\t\t<dd>20</dd>\n",
       "\t<dt>$out.id</dt>\n",
       "\t\t<dd>1</dd>\n",
       "\t<dt>$keep</dt>\n",
       "\t\t<dd><ol class=list-inline>\n",
       "\t<li>2</li>\n",
       "\t<li>3</li>\n",
       "\t<li>4</li>\n",
       "\t<li>5</li>\n",
       "\t<li>6</li>\n",
       "\t<li>7</li>\n",
       "\t<li>8</li>\n",
       "\t<li>9</li>\n",
       "\t<li>10</li>\n",
       "\t<li>11</li>\n",
       "</ol>\n",
       "</dd>\n",
       "</dl>\n"
      ],
      "text/latex": [
       "\\begin{description}\n",
       "\\item[\\$n] 11\n",
       "\\item[\\$n.out] 1\n",
       "\\item[\\$out.value] 20\n",
       "\\item[\\$out.id] 1\n",
       "\\item[\\$keep] \\begin{enumerate*}\n",
       "\\item 2\n",
       "\\item 3\n",
       "\\item 4\n",
       "\\item 5\n",
       "\\item 6\n",
       "\\item 7\n",
       "\\item 8\n",
       "\\item 9\n",
       "\\item 10\n",
       "\\item 11\n",
       "\\end{enumerate*}\n",
       "\n",
       "\\end{description}\n"
      ],
      "text/markdown": [
       "$n\n",
       ":   11\n",
       "$n.out\n",
       ":   1\n",
       "$out.value\n",
       ":   20\n",
       "$out.id\n",
       ":   1\n",
       "$keep\n",
       ":   1. 2\n",
       "2. 3\n",
       "3. 4\n",
       "4. 5\n",
       "5. 6\n",
       "6. 7\n",
       "7. 8\n",
       "8. 9\n",
       "9. 10\n",
       "10. 11\n",
       "\n",
       "\n",
       "\n",
       "\n",
       "\n"
      ],
      "text/plain": [
       "$n\n",
       "[1] 11\n",
       "\n",
       "$n.out\n",
       "[1] 1\n",
       "\n",
       "$out.value\n",
       "[1] 20\n",
       "\n",
       "$out.id\n",
       "[1] 1\n",
       "\n",
       "$keep\n",
       " [1]  2  3  4  5  6  7  8  9 10 11\n"
      ]
     },
     "metadata": {},
     "output_type": "display_data"
    }
   ],
   "source": [
    "vals <- c(20, 121, 132, 123, 145, 151, 119, 133, 134, 130, 200)\n",
    "WRS::outms(vals)"
   ]
  },
  {
   "cell_type": "code",
   "execution_count": 30,
   "metadata": {
    "ExecuteTime": {
     "end_time": "2017-04-18T15:31:43.998277Z",
     "start_time": "2017-04-18T15:31:43.963Z"
    }
   },
   "outputs": [
    {
     "data": {
      "text/html": [
       "<dl>\n",
       "\t<dt>$out.val</dt>\n",
       "\t\t<dd><ol class=list-inline>\n",
       "\t<li>20</li>\n",
       "\t<li>200</li>\n",
       "</ol>\n",
       "</dd>\n",
       "\t<dt>$out.id</dt>\n",
       "\t\t<dd><ol class=list-inline>\n",
       "\t<li>1</li>\n",
       "\t<li>11</li>\n",
       "</ol>\n",
       "</dd>\n",
       "\t<dt>$keep</dt>\n",
       "\t\t<dd><ol class=list-inline>\n",
       "\t<li>2</li>\n",
       "\t<li>3</li>\n",
       "\t<li>4</li>\n",
       "\t<li>5</li>\n",
       "\t<li>6</li>\n",
       "\t<li>7</li>\n",
       "\t<li>8</li>\n",
       "\t<li>9</li>\n",
       "\t<li>10</li>\n",
       "</ol>\n",
       "</dd>\n",
       "\t<dt>$n</dt>\n",
       "\t\t<dd>11</dd>\n",
       "\t<dt>$n.out</dt>\n",
       "\t\t<dd>2</dd>\n",
       "\t<dt>$cl</dt>\n",
       "\t\t<dd>88.5833333333333</dd>\n",
       "\t<dt>$cu</dt>\n",
       "\t\t<dd>175.916666666667</dd>\n",
       "</dl>\n"
      ],
      "text/latex": [
       "\\begin{description}\n",
       "\\item[\\$out.val] \\begin{enumerate*}\n",
       "\\item 20\n",
       "\\item 200\n",
       "\\end{enumerate*}\n",
       "\n",
       "\\item[\\$out.id] \\begin{enumerate*}\n",
       "\\item 1\n",
       "\\item 11\n",
       "\\end{enumerate*}\n",
       "\n",
       "\\item[\\$keep] \\begin{enumerate*}\n",
       "\\item 2\n",
       "\\item 3\n",
       "\\item 4\n",
       "\\item 5\n",
       "\\item 6\n",
       "\\item 7\n",
       "\\item 8\n",
       "\\item 9\n",
       "\\item 10\n",
       "\\end{enumerate*}\n",
       "\n",
       "\\item[\\$n] 11\n",
       "\\item[\\$n.out] 2\n",
       "\\item[\\$cl] 88.5833333333333\n",
       "\\item[\\$cu] 175.916666666667\n",
       "\\end{description}\n"
      ],
      "text/markdown": [
       "$out.val\n",
       ":   1. 20\n",
       "2. 200\n",
       "\n",
       "\n",
       "\n",
       "$out.id\n",
       ":   1. 1\n",
       "2. 11\n",
       "\n",
       "\n",
       "\n",
       "$keep\n",
       ":   1. 2\n",
       "2. 3\n",
       "3. 4\n",
       "4. 5\n",
       "5. 6\n",
       "6. 7\n",
       "7. 8\n",
       "8. 9\n",
       "9. 10\n",
       "\n",
       "\n",
       "\n",
       "$n\n",
       ":   11\n",
       "$n.out\n",
       ":   2\n",
       "$cl\n",
       ":   88.5833333333333\n",
       "$cu\n",
       ":   175.916666666667\n",
       "\n",
       "\n"
      ],
      "text/plain": [
       "$out.val\n",
       "[1]  20 200\n",
       "\n",
       "$out.id\n",
       "[1]  1 11\n",
       "\n",
       "$keep\n",
       "[1]  2  3  4  5  6  7  8  9 10\n",
       "\n",
       "$n\n",
       "[1] 11\n",
       "\n",
       "$n.out\n",
       "[1] 2\n",
       "\n",
       "$cl\n",
       "[1] 88.58333\n",
       "\n",
       "$cu\n",
       "[1] 175.9167\n"
      ]
     },
     "metadata": {},
     "output_type": "display_data"
    }
   ],
   "source": [
    "WRS::outbox(vals)"
   ]
  },
  {
   "cell_type": "code",
   "execution_count": 31,
   "metadata": {
    "ExecuteTime": {
     "end_time": "2017-04-18T15:31:59.414868Z",
     "start_time": "2017-04-18T15:31:59.355Z"
    }
   },
   "outputs": [
    {
     "name": "stderr",
     "output_type": "stream",
     "text": [
      "\n",
      "Attaching package: ‘MASS’\n",
      "\n",
      "The following object is masked from ‘package:WRS’:\n",
      "\n",
      "    ltsreg\n",
      "\n"
     ]
    },
    {
     "data": {
      "text/html": [
       "<dl>\n",
       "\t<dt>$n</dt>\n",
       "\t\t<dd>11</dd>\n",
       "\t<dt>$n.out</dt>\n",
       "\t\t<dd>2</dd>\n",
       "\t<dt>$out.id</dt>\n",
       "\t\t<dd><ol class=list-inline>\n",
       "\t<li>1</li>\n",
       "\t<li>11</li>\n",
       "</ol>\n",
       "</dd>\n",
       "\t<dt>$keep</dt>\n",
       "\t\t<dd><ol class=list-inline>\n",
       "\t<li>2</li>\n",
       "\t<li>3</li>\n",
       "\t<li>4</li>\n",
       "\t<li>5</li>\n",
       "\t<li>6</li>\n",
       "\t<li>7</li>\n",
       "\t<li>8</li>\n",
       "\t<li>9</li>\n",
       "\t<li>10</li>\n",
       "</ol>\n",
       "</dd>\n",
       "</dl>\n"
      ],
      "text/latex": [
       "\\begin{description}\n",
       "\\item[\\$n] 11\n",
       "\\item[\\$n.out] 2\n",
       "\\item[\\$out.id] \\begin{enumerate*}\n",
       "\\item 1\n",
       "\\item 11\n",
       "\\end{enumerate*}\n",
       "\n",
       "\\item[\\$keep] \\begin{enumerate*}\n",
       "\\item 2\n",
       "\\item 3\n",
       "\\item 4\n",
       "\\item 5\n",
       "\\item 6\n",
       "\\item 7\n",
       "\\item 8\n",
       "\\item 9\n",
       "\\item 10\n",
       "\\end{enumerate*}\n",
       "\n",
       "\\end{description}\n"
      ],
      "text/markdown": [
       "$n\n",
       ":   11\n",
       "$n.out\n",
       ":   2\n",
       "$out.id\n",
       ":   1. 1\n",
       "2. 11\n",
       "\n",
       "\n",
       "\n",
       "$keep\n",
       ":   1. 2\n",
       "2. 3\n",
       "3. 4\n",
       "4. 5\n",
       "5. 6\n",
       "6. 7\n",
       "7. 8\n",
       "8. 9\n",
       "9. 10\n",
       "\n",
       "\n",
       "\n",
       "\n",
       "\n"
      ],
      "text/plain": [
       "$n\n",
       "[1] 11\n",
       "\n",
       "$n.out\n",
       "[1] 2\n",
       "\n",
       "$out.id\n",
       "[1]  1 11\n",
       "\n",
       "$keep\n",
       "[1]  2  3  4  5  6  7  8  9 10\n"
      ]
     },
     "metadata": {},
     "output_type": "display_data"
    }
   ],
   "source": [
    "WRS::outpro(vals)"
   ]
  }
 ],
 "metadata": {
  "kernelspec": {
   "display_name": "R",
   "language": "R",
   "name": "ir"
  },
  "language_info": {
   "codemirror_mode": "r",
   "file_extension": ".r",
   "mimetype": "text/x-r-source",
   "name": "R",
   "pygments_lexer": "r",
   "version": "3.3.3"
  },
  "toc": {
   "colors": {
    "hover_highlight": "#DAA520",
    "running_highlight": "#FF0000",
    "selected_highlight": "#FFD700"
   },
   "moveMenuLeft": true,
   "nav_menu": {
    "height": "12px",
    "width": "252px"
   },
   "navigate_menu": true,
   "number_sections": true,
   "sideBar": false,
   "threshold": 4,
   "toc_cell": true,
   "toc_position": {
    "height": "48px",
    "left": "4.60071px",
    "right": "20px",
    "top": "1060px",
    "width": "182px"
   },
   "toc_section_display": "block",
   "toc_window_display": true,
   "widenNotebook": false
  }
 },
 "nbformat": 4,
 "nbformat_minor": 2
}
